{
 "cells": [
  {
   "cell_type": "markdown",
   "metadata": {},
   "source": [
    "from bs4 import BeautifulSoup\n",
    "import requests\n",
    "import pymongo\n",
    "import pandas as pd"
   ]
  },
  {
   "cell_type": "code",
   "execution_count": 55,
   "metadata": {},
   "outputs": [],
   "source": [
    "from bs4 import BeautifulSoup as bs\n",
    "import requests\n",
    "import pymongo\n",
    "import pandas as pd\n",
    "import time\n",
    "import os\n",
    "from splinter import Browser"
   ]
  },
  {
   "cell_type": "code",
   "execution_count": 56,
   "metadata": {},
   "outputs": [],
   "source": [
    "#path to chromedriver\n",
    "executable_path = {\"executable_path\": \"/usr/local/bin/chromedriver\"}\n",
    "browser = Browser(\"chrome\", **executable_path, headless=False)"
   ]
  },
  {
   "cell_type": "code",
   "execution_count": 57,
   "metadata": {},
   "outputs": [],
   "source": [
    "#Nasa Mars News\n",
    "url = \"https://mars.nasa.gov/news\"\n",
    "browser.visit(url)\n"
   ]
  },
  {
   "cell_type": "code",
   "execution_count": 58,
   "metadata": {},
   "outputs": [
    {
     "name": "stdout",
     "output_type": "stream",
     "text": [
      "News Title : NASA's InSight Will Study Mars While Standing Still\n",
      "News Content : The lander's unique science can teach us how planets are born. \n"
     ]
    }
   ],
   "source": [
    "# Display mars news title and news paragraph\n",
    "html = browser.html\n",
    "soup = bs(html, \"lxml\")\n",
    "\n",
    "news_titles = soup.find('div', class_='content_title').text\n",
    "news_paragraph = soup.find('div', class_='article_teaser_body').text\n",
    "\n",
    "print(f\"News Title : {news_titles}\")\n",
    "print(f\"News Content : {news_paragraph} \")\n"
   ]
  },
  {
   "cell_type": "code",
   "execution_count": 59,
   "metadata": {},
   "outputs": [],
   "source": [
    "#JPL Mars Space Images-Featured Images\n",
    "url_images = \"https://www.jpl.nasa.gov/spaceimages/?search=&category=featured#submit\"\n",
    "browser.visit(url_images)\n"
   ]
  },
  {
   "cell_type": "code",
   "execution_count": 60,
   "metadata": {},
   "outputs": [
    {
     "name": "stdout",
     "output_type": "stream",
     "text": [
      "https://www.jpl.nasa.gov/\n"
     ]
    }
   ],
   "source": [
    "#get the base url\n",
    "from urllib.parse import urlsplit\n",
    "base_url = \"{0.scheme}://{0.netloc}/\".format(urlsplit(url_images))\n",
    "print(base_url)\n"
   ]
  },
  {
   "cell_type": "code",
   "execution_count": 61,
   "metadata": {},
   "outputs": [],
   "source": [
    "#Design an xpath selector to grab the images\n",
    "xpath = \"//*[@id=\\\"page\\\"]/section[3]/div/ul/li[1]/a/div/div[2]/img\"\n",
    "#use splinter to bring images\n",
    "results = browser.find_by_xpath(xpath)\n",
    "img = results[0]\n",
    "img.click()"
   ]
  },
  {
   "cell_type": "code",
   "execution_count": 62,
   "metadata": {},
   "outputs": [
    {
     "name": "stdout",
     "output_type": "stream",
     "text": [
      "https://www.jpl.nasa.gov//spaceimages/images/largesize/PIA20318_hires.jpg\n"
     ]
    }
   ],
   "source": [
    "#get image url using BeautifulSoup\n",
    "html_image = browser.html\n",
    "soup = bs(html_image, 'html.parser')\n",
    "img_url = soup.find(\"img\", class_=\"fancybox-image\")[\"src\"]\n",
    "featured_image_url = base_url + img_url\n",
    "print(featured_image_url)"
   ]
  },
  {
   "cell_type": "code",
   "execution_count": 63,
   "metadata": {},
   "outputs": [
    {
     "name": "stdout",
     "output_type": "stream",
     "text": [
      "Latest Mars Weather: Sol 2174 (2018-09-17), high -22C/-7F, low -68C/-90F, pressure at 8.96 hPa, daylight 05:45-18:01\n"
     ]
    }
   ],
   "source": [
    "#Mars Weather from twitter\n",
    "weather_info_dict = []\n",
    "url_weather = \"https://twitter.com/marswxreport?lang=en\"\n",
    "browser.visit(url_weather)\n",
    "\n",
    "html_weather = browser.html\n",
    "soup = bs(html_weather, \"html.parser\")\n",
    "\n",
    "#for mars_weather in soup.find_all('p',class_=\"TweetTextSize TweetTextSize--normal js-tweet-text tweet-text\"):\n",
    "#    weather_info_dict.append(mars_weather.text)\n",
    "time.sleep(3)\n",
    "tweets = soup.find_all(\"div\",class_='js-tweet-text-container')\n",
    "mars_weather=\"\"\n",
    "for tweet in tweets:\n",
    "    if tweet.p.get_text().startswith(\"Sol \"):\n",
    "        mars_weather = tweet.p.get_text()\n",
    "        break\n",
    "print('Latest Mars Weather: ' +  mars_weather)"
   ]
  },
  {
   "cell_type": "code",
   "execution_count": 64,
   "metadata": {},
   "outputs": [
    {
     "name": "stdout",
     "output_type": "stream",
     "text": [
      "<table border=\"1\" class=\"dataframe\">  <thead>    <tr style=\"text-align: right;\">      <th></th>      <th>0</th>      <th>1</th>    </tr>  </thead>  <tbody>    <tr>      <th>0</th>      <td>Equatorial Diameter:</td>      <td>6,792 km</td>    </tr>    <tr>      <th>1</th>      <td>Polar Diameter:</td>      <td>6,752 km</td>    </tr>    <tr>      <th>2</th>      <td>Mass:</td>      <td>6.42 x 10^23 kg (10.7% Earth)</td>    </tr>    <tr>      <th>3</th>      <td>Moons:</td>      <td>2 (Phobos &amp; Deimos)</td>    </tr>    <tr>      <th>4</th>      <td>Orbit Distance:</td>      <td>227,943,824 km (1.52 AU)</td>    </tr>    <tr>      <th>5</th>      <td>Orbit Period:</td>      <td>687 days (1.9 years)</td>    </tr>    <tr>      <th>6</th>      <td>Surface Temperature:</td>      <td>-153 to 20 °C</td>    </tr>    <tr>      <th>7</th>      <td>First Record:</td>      <td>2nd millennium BC</td>    </tr>    <tr>      <th>8</th>      <td>Recorded By:</td>      <td>Egyptian astronomers</td>    </tr>  </tbody></table>\n"
     ]
    }
   ],
   "source": [
    "#Mars Facts\n",
    "url_facts = \"https://space-facts.com/mars/\"\n",
    "fact_df = pd.read_html(url_facts)\n",
    "mars_fact_df = fact_df[0]\n",
    "#print(mars_fact_df)\n",
    "mars_fact_table = mars_fact_df.to_html()\n",
    "mars_fact_table = mars_fact_table.replace(\"\\n\",\"\")\n",
    "print(mars_fact_table)"
   ]
  },
  {
   "cell_type": "code",
   "execution_count": 67,
   "metadata": {},
   "outputs": [
    {
     "name": "stdout",
     "output_type": "stream",
     "text": [
      "image url: https://astropedia.astrogeology.usgs.gov/download/Mars/Viking/cerberus_enhanced.tif/full.jpg\n",
      "image title: Cerberus Hemisphere Enhanced\n",
      "image url: https://astropedia.astrogeology.usgs.gov/download/Mars/Viking/schiaparelli_enhanced.tif/full.jpg\n",
      "image title: Schiaparelli Hemisphere Enhanced\n",
      "image url: https://astropedia.astrogeology.usgs.gov/download/Mars/Viking/syrtis_major_enhanced.tif/full.jpg\n",
      "image title: Syrtis Major Hemisphere Enhanced\n",
      "image url: https://astropedia.astrogeology.usgs.gov/download/Mars/Viking/valles_marineris_enhanced.tif/full.jpg\n",
      "image title: Valles Marineris Hemisphere Enhanced\n"
     ]
    }
   ],
   "source": [
    "#collection of title and images for Mars hemispheres\n",
    "hemisphere_image_urls = []\n",
    "    \n",
    "hemisphere_names = ['cerberus%20enhanced', 'schiaparelli%20enhanced','syrtis%20major%20enhanced','valles%20marineris%20enhanced']\n",
    "for hemis in hemisphere_names:\n",
    "    base ='https://astrogeology.usgs.gov/search/map/Mars/Viking/' + hemis\n",
    "    browser.visit(base)\n",
    "    html_hm = browser.html\n",
    "    soup3 = bs(html_hm,'html.parser')\n",
    "    #hemisphere_image_urls[\"image_url\"] = soup3.find('img',class_='wide-image')['src']\n",
    "    imagelist = soup3.find('div',class_=\"wide-image-wrapper\").find_all('li')\n",
    "    img_url = \"https://astropedia.astrogeology.usgs.gov/download/Mars/Viking/\"+ hemis.replace(\"%20\",\"_\") + \".tif/full.jpg\"\n",
    "    hemisphere_image_urls.append({\"hems_title\" : soup3.find('h2',class_='title').text,\"image_url\": img_url} )\n",
    "    \n",
    "for x in hemisphere_image_urls:\n",
    "    print(\"image url: \" + x['image_url'])\n",
    "    print(\"image title: \" + x['hems_title'])\n"
   ]
  },
  {
   "cell_type": "code",
   "execution_count": null,
   "metadata": {},
   "outputs": [],
   "source": []
  }
 ],
 "metadata": {
  "kernelspec": {
   "display_name": "Python [conda env:PythonData]",
   "language": "python",
   "name": "conda-env-PythonData-py"
  },
  "language_info": {
   "codemirror_mode": {
    "name": "ipython",
    "version": 3
   },
   "file_extension": ".py",
   "mimetype": "text/x-python",
   "name": "python",
   "nbconvert_exporter": "python",
   "pygments_lexer": "ipython3",
   "version": "3.6.5"
  }
 },
 "nbformat": 4,
 "nbformat_minor": 2
}
